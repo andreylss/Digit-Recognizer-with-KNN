{
 "cells": [
  {
   "cell_type": "markdown",
   "id": "3be540df",
   "metadata": {
    "papermill": {
     "duration": 0.013169,
     "end_time": "2023-06-30T00:25:14.446098",
     "exception": false,
     "start_time": "2023-06-30T00:25:14.432929",
     "status": "completed"
    },
    "tags": []
   },
   "source": [
    "In this example, I will use the k-Nearest Neighbors (k-NN) algorithm to sort data. KNN is a machine learning method that relies on proximity between data to make predictions or classifications.\n",
    "\n",
    "The **Digit Recognizer** dataframe is a dataset widely used in the field of computer vision and machine learning. It consists of a collection of handwritten digit images, where each image is represented as a matrix of pixels. Each pixel contains a value that indicates the gray intensity corresponding to that point in the image.\n",
    "\n",
    "This dataset is often used for image classification tasks, where the goal is to train machine learning algorithms to correctly recognize handwritten digits. Each image is associated with a label that indicates the numerical value of the digit represented in the image. Based on this data, machine learning models can learn to extract relevant features from images and perform correct digit classification."
   ]
  },
  {
   "cell_type": "code",
   "execution_count": 1,
   "id": "44fe9bd5",
   "metadata": {
    "execution": {
     "iopub.execute_input": "2023-06-30T00:25:14.471555Z",
     "iopub.status.busy": "2023-06-30T00:25:14.470958Z",
     "iopub.status.idle": "2023-06-30T00:25:16.447574Z",
     "shell.execute_reply": "2023-06-30T00:25:16.446409Z"
    },
    "papermill": {
     "duration": 1.99162,
     "end_time": "2023-06-30T00:25:16.450391",
     "exception": false,
     "start_time": "2023-06-30T00:25:14.458771",
     "status": "completed"
    },
    "scrolled": true,
    "tags": []
   },
   "outputs": [],
   "source": [
    "# Loading the packages\n",
    "\n",
    "# Manipulation\n",
    "import numpy as np\n",
    "import pandas as pd\n",
    "\n",
    "# Machine Learning\n",
    "from sklearn.metrics import confusion_matrix\n",
    "from sklearn.metrics import classification_report\n",
    "from sklearn.model_selection import train_test_split\n",
    "from sklearn.neighbors import KNeighborsClassifier\n",
    "from sklearn.preprocessing import StandardScaler\n",
    "from sklearn.metrics import accuracy_score\n",
    "\n",
    "# Visualizing\n",
    "import matplotlib.pyplot as plt\n",
    "import seaborn as sns\n",
    "\n",
    "# Ignoring warnings\n",
    "import warnings\n",
    "warnings.filterwarnings('ignore')"
   ]
  },
  {
   "cell_type": "code",
   "execution_count": 2,
   "id": "76dae930",
   "metadata": {
    "execution": {
     "iopub.execute_input": "2023-06-30T00:25:16.477656Z",
     "iopub.status.busy": "2023-06-30T00:25:16.476643Z",
     "iopub.status.idle": "2023-06-30T00:25:20.726503Z",
     "shell.execute_reply": "2023-06-30T00:25:20.725453Z"
    },
    "papermill": {
     "duration": 4.265645,
     "end_time": "2023-06-30T00:25:20.729193",
     "exception": false,
     "start_time": "2023-06-30T00:25:16.463548",
     "status": "completed"
    },
    "tags": []
   },
   "outputs": [],
   "source": [
    "# Loading the training data\n",
    "df_train = pd.read_csv('/kaggle/input/digit-recognizer/train.csv')"
   ]
  },
  {
   "cell_type": "code",
   "execution_count": 3,
   "id": "4bda6781",
   "metadata": {
    "execution": {
     "iopub.execute_input": "2023-06-30T00:25:20.754131Z",
     "iopub.status.busy": "2023-06-30T00:25:20.752891Z",
     "iopub.status.idle": "2023-06-30T00:25:20.793556Z",
     "shell.execute_reply": "2023-06-30T00:25:20.792376Z"
    },
    "papermill": {
     "duration": 0.056063,
     "end_time": "2023-06-30T00:25:20.796440",
     "exception": false,
     "start_time": "2023-06-30T00:25:20.740377",
     "status": "completed"
    },
    "tags": []
   },
   "outputs": [
    {
     "data": {
      "text/html": [
       "<div>\n",
       "<style scoped>\n",
       "    .dataframe tbody tr th:only-of-type {\n",
       "        vertical-align: middle;\n",
       "    }\n",
       "\n",
       "    .dataframe tbody tr th {\n",
       "        vertical-align: top;\n",
       "    }\n",
       "\n",
       "    .dataframe thead th {\n",
       "        text-align: right;\n",
       "    }\n",
       "</style>\n",
       "<table border=\"1\" class=\"dataframe\">\n",
       "  <thead>\n",
       "    <tr style=\"text-align: right;\">\n",
       "      <th></th>\n",
       "      <th>label</th>\n",
       "      <th>pixel0</th>\n",
       "      <th>pixel1</th>\n",
       "      <th>pixel2</th>\n",
       "      <th>pixel3</th>\n",
       "      <th>pixel4</th>\n",
       "      <th>pixel5</th>\n",
       "      <th>pixel6</th>\n",
       "      <th>pixel7</th>\n",
       "      <th>pixel8</th>\n",
       "      <th>...</th>\n",
       "      <th>pixel774</th>\n",
       "      <th>pixel775</th>\n",
       "      <th>pixel776</th>\n",
       "      <th>pixel777</th>\n",
       "      <th>pixel778</th>\n",
       "      <th>pixel779</th>\n",
       "      <th>pixel780</th>\n",
       "      <th>pixel781</th>\n",
       "      <th>pixel782</th>\n",
       "      <th>pixel783</th>\n",
       "    </tr>\n",
       "  </thead>\n",
       "  <tbody>\n",
       "    <tr>\n",
       "      <th>0</th>\n",
       "      <td>1</td>\n",
       "      <td>0</td>\n",
       "      <td>0</td>\n",
       "      <td>0</td>\n",
       "      <td>0</td>\n",
       "      <td>0</td>\n",
       "      <td>0</td>\n",
       "      <td>0</td>\n",
       "      <td>0</td>\n",
       "      <td>0</td>\n",
       "      <td>...</td>\n",
       "      <td>0</td>\n",
       "      <td>0</td>\n",
       "      <td>0</td>\n",
       "      <td>0</td>\n",
       "      <td>0</td>\n",
       "      <td>0</td>\n",
       "      <td>0</td>\n",
       "      <td>0</td>\n",
       "      <td>0</td>\n",
       "      <td>0</td>\n",
       "    </tr>\n",
       "    <tr>\n",
       "      <th>1</th>\n",
       "      <td>0</td>\n",
       "      <td>0</td>\n",
       "      <td>0</td>\n",
       "      <td>0</td>\n",
       "      <td>0</td>\n",
       "      <td>0</td>\n",
       "      <td>0</td>\n",
       "      <td>0</td>\n",
       "      <td>0</td>\n",
       "      <td>0</td>\n",
       "      <td>...</td>\n",
       "      <td>0</td>\n",
       "      <td>0</td>\n",
       "      <td>0</td>\n",
       "      <td>0</td>\n",
       "      <td>0</td>\n",
       "      <td>0</td>\n",
       "      <td>0</td>\n",
       "      <td>0</td>\n",
       "      <td>0</td>\n",
       "      <td>0</td>\n",
       "    </tr>\n",
       "    <tr>\n",
       "      <th>2</th>\n",
       "      <td>1</td>\n",
       "      <td>0</td>\n",
       "      <td>0</td>\n",
       "      <td>0</td>\n",
       "      <td>0</td>\n",
       "      <td>0</td>\n",
       "      <td>0</td>\n",
       "      <td>0</td>\n",
       "      <td>0</td>\n",
       "      <td>0</td>\n",
       "      <td>...</td>\n",
       "      <td>0</td>\n",
       "      <td>0</td>\n",
       "      <td>0</td>\n",
       "      <td>0</td>\n",
       "      <td>0</td>\n",
       "      <td>0</td>\n",
       "      <td>0</td>\n",
       "      <td>0</td>\n",
       "      <td>0</td>\n",
       "      <td>0</td>\n",
       "    </tr>\n",
       "    <tr>\n",
       "      <th>3</th>\n",
       "      <td>4</td>\n",
       "      <td>0</td>\n",
       "      <td>0</td>\n",
       "      <td>0</td>\n",
       "      <td>0</td>\n",
       "      <td>0</td>\n",
       "      <td>0</td>\n",
       "      <td>0</td>\n",
       "      <td>0</td>\n",
       "      <td>0</td>\n",
       "      <td>...</td>\n",
       "      <td>0</td>\n",
       "      <td>0</td>\n",
       "      <td>0</td>\n",
       "      <td>0</td>\n",
       "      <td>0</td>\n",
       "      <td>0</td>\n",
       "      <td>0</td>\n",
       "      <td>0</td>\n",
       "      <td>0</td>\n",
       "      <td>0</td>\n",
       "    </tr>\n",
       "    <tr>\n",
       "      <th>4</th>\n",
       "      <td>0</td>\n",
       "      <td>0</td>\n",
       "      <td>0</td>\n",
       "      <td>0</td>\n",
       "      <td>0</td>\n",
       "      <td>0</td>\n",
       "      <td>0</td>\n",
       "      <td>0</td>\n",
       "      <td>0</td>\n",
       "      <td>0</td>\n",
       "      <td>...</td>\n",
       "      <td>0</td>\n",
       "      <td>0</td>\n",
       "      <td>0</td>\n",
       "      <td>0</td>\n",
       "      <td>0</td>\n",
       "      <td>0</td>\n",
       "      <td>0</td>\n",
       "      <td>0</td>\n",
       "      <td>0</td>\n",
       "      <td>0</td>\n",
       "    </tr>\n",
       "  </tbody>\n",
       "</table>\n",
       "<p>5 rows × 785 columns</p>\n",
       "</div>"
      ],
      "text/plain": [
       "   label  pixel0  pixel1  pixel2  pixel3  pixel4  pixel5  pixel6  pixel7  \\\n",
       "0      1       0       0       0       0       0       0       0       0   \n",
       "1      0       0       0       0       0       0       0       0       0   \n",
       "2      1       0       0       0       0       0       0       0       0   \n",
       "3      4       0       0       0       0       0       0       0       0   \n",
       "4      0       0       0       0       0       0       0       0       0   \n",
       "\n",
       "   pixel8  ...  pixel774  pixel775  pixel776  pixel777  pixel778  pixel779  \\\n",
       "0       0  ...         0         0         0         0         0         0   \n",
       "1       0  ...         0         0         0         0         0         0   \n",
       "2       0  ...         0         0         0         0         0         0   \n",
       "3       0  ...         0         0         0         0         0         0   \n",
       "4       0  ...         0         0         0         0         0         0   \n",
       "\n",
       "   pixel780  pixel781  pixel782  pixel783  \n",
       "0         0         0         0         0  \n",
       "1         0         0         0         0  \n",
       "2         0         0         0         0  \n",
       "3         0         0         0         0  \n",
       "4         0         0         0         0  \n",
       "\n",
       "[5 rows x 785 columns]"
      ]
     },
     "execution_count": 3,
     "metadata": {},
     "output_type": "execute_result"
    }
   ],
   "source": [
    "# Visualizing the data\n",
    "df_train.head(5)"
   ]
  },
  {
   "cell_type": "markdown",
   "id": "c511e64e",
   "metadata": {
    "papermill": {
     "duration": 0.011156,
     "end_time": "2023-06-30T00:25:20.819098",
     "exception": false,
     "start_time": "2023-06-30T00:25:20.807942",
     "status": "completed"
    },
    "tags": []
   },
   "source": [
    "> Each row of the df_train represents a image, where in variable **label** represent a class and de columns from **pixel0** to **pixel783** represent the values of pixels' image."
   ]
  },
  {
   "cell_type": "code",
   "execution_count": 4,
   "id": "a312795d",
   "metadata": {
    "execution": {
     "iopub.execute_input": "2023-06-30T00:25:20.844436Z",
     "iopub.status.busy": "2023-06-30T00:25:20.844024Z",
     "iopub.status.idle": "2023-06-30T00:25:21.877530Z",
     "shell.execute_reply": "2023-06-30T00:25:21.876394Z"
    },
    "papermill": {
     "duration": 1.049435,
     "end_time": "2023-06-30T00:25:21.880292",
     "exception": false,
     "start_time": "2023-06-30T00:25:20.830857",
     "status": "completed"
    },
    "tags": []
   },
   "outputs": [
    {
     "data": {
      "image/png": "[encoded data removed]",
      "text/plain": [
       "<Figure size 1700x400 with 10 Axes>"
      ]
     },
     "metadata": {},
     "output_type": "display_data"
    }
   ],
   "source": [
    "df_sorted = df_train.sort_values('label')\n",
    "\n",
    "unique_categories = df_sorted['label'].unique()\n",
    "\n",
    "fig, axes = plt.subplots(1, len(unique_categories), figsize=(17, 4))\n",
    "\n",
    "for i, category in enumerate(unique_categories):\n",
    "    image = df_sorted[df_sorted['label'] == category].iloc[0, 1:].values.reshape(28, 28)\n",
    "    axes[i].imshow(image, cmap='gray')\n",
    "    axes[i].set_title(f'Class {category}', fontsize=17)\n",
    "    axes[i].axis('off')\n",
    "\n",
    "plt.tight_layout()\n",
    "plt.show()"
   ]
  },
  {
   "cell_type": "markdown",
   "id": "056ae755",
   "metadata": {
    "papermill": {
     "duration": 0.012286,
     "end_time": "2023-06-30T00:25:21.904824",
     "exception": false,
     "start_time": "2023-06-30T00:25:21.892538",
     "status": "completed"
    },
    "tags": []
   },
   "source": [
    "> Here's a image of each class."
   ]
  },
  {
   "cell_type": "code",
   "execution_count": 5,
   "id": "3ac11ac2",
   "metadata": {
    "execution": {
     "iopub.execute_input": "2023-06-30T00:25:21.930759Z",
     "iopub.status.busy": "2023-06-30T00:25:21.930289Z",
     "iopub.status.idle": "2023-06-30T00:25:21.947674Z",
     "shell.execute_reply": "2023-06-30T00:25:21.946708Z"
    },
    "papermill": {
     "duration": 0.033736,
     "end_time": "2023-06-30T00:25:21.950438",
     "exception": false,
     "start_time": "2023-06-30T00:25:21.916702",
     "status": "completed"
    },
    "tags": []
   },
   "outputs": [
    {
     "name": "stdout",
     "output_type": "stream",
     "text": [
      "There are no missing values\n"
     ]
    }
   ],
   "source": [
    "# Checking for missing values in each column\n",
    "columns_with_nulls = df_train.columns[df_train.isnull().any()].tolist()\n",
    "\n",
    "# Displaying columns that have missing values\n",
    "if len(columns_with_nulls) > 0:\n",
    "    print(\"There are missing values:\")\n",
    "    for columns in columns_with_nulls:\n",
    "        print(columns)\n",
    "else:\n",
    "    print(\"There are no missing values\")"
   ]
  },
  {
   "cell_type": "markdown",
   "id": "999565c4",
   "metadata": {
    "papermill": {
     "duration": 0.011598,
     "end_time": "2023-06-30T00:25:21.974319",
     "exception": false,
     "start_time": "2023-06-30T00:25:21.962721",
     "status": "completed"
    },
    "tags": []
   },
   "source": [
    "> This is a positive information because it means that the dataframe there's no missing values. In this case, the absence of missing values simplify the processe and the analyse of datas thereby is not necessary deal with missign values using technics of imputation ou exclusion of rows with missing values."
   ]
  },
  {
   "cell_type": "code",
   "execution_count": 6,
   "id": "ef53cd6c",
   "metadata": {
    "execution": {
     "iopub.execute_input": "2023-06-30T00:25:22.002176Z",
     "iopub.status.busy": "2023-06-30T00:25:22.000693Z",
     "iopub.status.idle": "2023-06-30T00:25:22.010860Z",
     "shell.execute_reply": "2023-06-30T00:25:22.008709Z"
    },
    "papermill": {
     "duration": 0.027785,
     "end_time": "2023-06-30T00:25:22.013965",
     "exception": false,
     "start_time": "2023-06-30T00:25:21.986180",
     "status": "completed"
    },
    "tags": []
   },
   "outputs": [
    {
     "name": "stdout",
     "output_type": "stream",
     "text": [
      "Shape of X: (42000, 784)\n",
      "Shape of target: (42000,)\n"
     ]
    }
   ],
   "source": [
    "# Splitting dataframe\n",
    "X = df_train.iloc[:, 1:]\n",
    "target = df_train.label\n",
    "\n",
    "# Shape of dataframe\n",
    "print(f\"Shape of X: {X.shape}\\nShape of target: {target.shape}\")"
   ]
  },
  {
   "cell_type": "markdown",
   "id": "f7649699",
   "metadata": {
    "papermill": {
     "duration": 0.011703,
     "end_time": "2023-06-30T00:25:22.038086",
     "exception": false,
     "start_time": "2023-06-30T00:25:22.026383",
     "status": "completed"
    },
    "tags": []
   },
   "source": [
    "> We have the variable **X** with a total of 42.000 rows and 784 columns. As for the variable **y**, we have 42.000 classes in the variable target."
   ]
  },
  {
   "cell_type": "code",
   "execution_count": 7,
   "id": "4bfc30e1",
   "metadata": {
    "execution": {
     "iopub.execute_input": "2023-06-30T00:25:22.064637Z",
     "iopub.status.busy": "2023-06-30T00:25:22.064178Z",
     "iopub.status.idle": "2023-06-30T00:25:22.402310Z",
     "shell.execute_reply": "2023-06-30T00:25:22.400920Z"
    },
    "papermill": {
     "duration": 0.354424,
     "end_time": "2023-06-30T00:25:22.405062",
     "exception": false,
     "start_time": "2023-06-30T00:25:22.050638",
     "status": "completed"
    },
    "scrolled": true,
    "tags": []
   },
   "outputs": [
    {
     "data": {
      "image/png": "[encoded data removed]",
      "text/plain": [
       "<Figure size 1000x400 with 1 Axes>"
      ]
     },
     "metadata": {},
     "output_type": "display_data"
    }
   ],
   "source": [
    "# Visualizing amoung of classes\n",
    "\n",
    "# Ploting the countplot\n",
    "plt.figure(figsize=(10, 4))\n",
    "ax = sns.countplot(x=target, palette='mako')\n",
    "\n",
    "# adding the amoung in each bars\n",
    "for p in ax.patches:\n",
    "    ax.annotate(str(int(p.get_height())), \n",
    "                (p.get_x() + p.get_width() / 2., p.get_height()), \n",
    "                ha='center', \n",
    "                va='center', \n",
    "                xytext=(0, 10), \n",
    "                textcoords='offset points',\n",
    "                bbox=dict(facecolor='white', \n",
    "                          edgecolor='black', \n",
    "                          boxstyle='round'))\n",
    "\n",
    "# Setting of the limit in axis y\n",
    "plt.ylim(0, max([p.get_height() for p in ax.patches]) * 1.15)\n",
    "\n",
    "# Setting the font size for all elements\n",
    "plt.xticks(fontsize=10)\n",
    "plt.yticks(fontsize=10)\n",
    "plt.xlabel('Class', fontsize=10)\n",
    "plt.ylabel('Amount', fontsize=10)\n",
    "plt.title('Amount of classes', fontsize=12)\n",
    "\n",
    "plt.show()\n"
   ]
  },
  {
   "cell_type": "markdown",
   "id": "e28ac174",
   "metadata": {
    "papermill": {
     "duration": 0.012727,
     "end_time": "2023-06-30T00:25:22.430511",
     "exception": false,
     "start_time": "2023-06-30T00:25:22.417784",
     "status": "completed"
    },
    "tags": []
   },
   "source": [
    ">Regarding of amount of each digit, is notable that there's not much a difference amount between each class. This indicate that the dataframe is relatively equilibrate in terms of representation of each digit. To have a similiar amount of ocorrences in each class is desireable in many problems of classification.\n",
    ">\n",
    "> With a amount almost equal of ocorrence between the classes, it's expected a model of recognition model that can to learn and generalize right to all classes,\n",
    ">\n",
    "> With an almost equal amount of occurrences between categories in the Digit Recognizer database, it is expected that a digit recognition model can learn and generalize well to all categories, without a tendency to misclassify one category over others.\n"
   ]
  },
  {
   "cell_type": "markdown",
   "id": "ac036013",
   "metadata": {
    "papermill": {
     "duration": 0.012632,
     "end_time": "2023-06-30T00:25:22.456478",
     "exception": false,
     "start_time": "2023-06-30T00:25:22.443846",
     "status": "completed"
    },
    "tags": []
   },
   "source": [
    "## Pre-processing"
   ]
  },
  {
   "cell_type": "code",
   "execution_count": 8,
   "id": "e20dcb5a",
   "metadata": {
    "execution": {
     "iopub.execute_input": "2023-06-30T00:25:22.484819Z",
     "iopub.status.busy": "2023-06-30T00:25:22.483862Z",
     "iopub.status.idle": "2023-06-30T00:25:22.490733Z",
     "shell.execute_reply": "2023-06-30T00:25:22.489022Z"
    },
    "papermill": {
     "duration": 0.0245,
     "end_time": "2023-06-30T00:25:22.493543",
     "exception": false,
     "start_time": "2023-06-30T00:25:22.469043",
     "status": "completed"
    },
    "tags": []
   },
   "outputs": [],
   "source": [
    "X = X.values\n"
   ]
  },
  {
   "cell_type": "code",
   "execution_count": 9,
   "id": "ae68f5b3",
   "metadata": {
    "execution": {
     "iopub.execute_input": "2023-06-30T00:25:22.520996Z",
     "iopub.status.busy": "2023-06-30T00:25:22.520576Z",
     "iopub.status.idle": "2023-06-30T00:25:22.525424Z",
     "shell.execute_reply": "2023-06-30T00:25:22.524138Z"
    },
    "papermill": {
     "duration": 0.021298,
     "end_time": "2023-06-30T00:25:22.527776",
     "exception": false,
     "start_time": "2023-06-30T00:25:22.506478",
     "status": "completed"
    },
    "tags": []
   },
   "outputs": [],
   "source": [
    "target = target.values"
   ]
  },
  {
   "cell_type": "code",
   "execution_count": 10,
   "id": "6dbfcfee",
   "metadata": {
    "execution": {
     "iopub.execute_input": "2023-06-30T00:25:22.554629Z",
     "iopub.status.busy": "2023-06-30T00:25:22.554158Z",
     "iopub.status.idle": "2023-06-30T00:25:22.989419Z",
     "shell.execute_reply": "2023-06-30T00:25:22.988391Z"
    },
    "papermill": {
     "duration": 0.452217,
     "end_time": "2023-06-30T00:25:22.992442",
     "exception": false,
     "start_time": "2023-06-30T00:25:22.540225",
     "status": "completed"
    },
    "tags": []
   },
   "outputs": [],
   "source": [
    "# Splitting the data into training data and test data.\n",
    "X_train, X_test, y_train, y_test = train_test_split(X, target, \n",
    "                                                    test_size=0.3)"
   ]
  },
  {
   "cell_type": "markdown",
   "id": "c54b686f",
   "metadata": {
    "papermill": {
     "duration": 0.01239,
     "end_time": "2023-06-30T00:25:23.017354",
     "exception": false,
     "start_time": "2023-06-30T00:25:23.004964",
     "status": "completed"
    },
    "tags": []
   },
   "source": [
    "> This split is essential to evaluate the capacity of generalization of model, ensure that it to be able to make predictions precision with new datas.\n",
    ">\n",
    "> For the teste datas I will extract 30%.\n"
   ]
  },
  {
   "cell_type": "markdown",
   "id": "c8465534",
   "metadata": {
    "papermill": {
     "duration": 0.012159,
     "end_time": "2023-06-30T00:25:23.042350",
     "exception": false,
     "start_time": "2023-06-30T00:25:23.030191",
     "status": "completed"
    },
    "tags": []
   },
   "source": [
    "### Verifying the best values of K"
   ]
  },
  {
   "cell_type": "code",
   "execution_count": 11,
   "id": "209897e8",
   "metadata": {
    "execution": {
     "iopub.execute_input": "2023-06-30T00:25:23.070348Z",
     "iopub.status.busy": "2023-06-30T00:25:23.069597Z",
     "iopub.status.idle": "2023-06-30T00:27:17.117394Z",
     "shell.execute_reply": "2023-06-30T00:27:17.116195Z"
    },
    "papermill": {
     "duration": 114.078093,
     "end_time": "2023-06-30T00:27:17.133392",
     "exception": false,
     "start_time": "2023-06-30T00:25:23.055299",
     "status": "completed"
    },
    "tags": []
   },
   "outputs": [
    {
     "name": "stdout",
     "output_type": "stream",
     "text": [
      "With the value k = 1, the accuracy is = 96.78%\n",
      "With the value k = 3, the accuracy is = 96.61%\n",
      "With the value k = 5, the accuracy is = 96.60%\n",
      "With the value k = 7, the accuracy is = 96.54%\n",
      "With the value k = 9, the accuracy is = 96.29%\n",
      "With the value k = 11, the accuracy is = 96.17%\n",
      "With the value k = 13, the accuracy is = 95.96%\n"
     ]
    }
   ],
   "source": [
    "# Creating a range of values of k that will be tested\n",
    "kVals = range(1, 15, 2)\n",
    "\n",
    "# Creating a empty list to get the accuracies\n",
    "accuracies = []\n",
    "\n",
    "# Loop in all of values of k to test each one of them\n",
    "for k in kVals:\n",
    "    \n",
    "    # Training the model KNN with each values of k\n",
    "    modelKNN = KNeighborsClassifier(n_neighbors = k)\n",
    "    modelKNN.fit(X_train, y_train)\n",
    "          \n",
    "    # Evaluating the model and updating the precision list\n",
    "    score = modelKNN.score(X_test, y_test)\n",
    "    print(\"With the value k = %d, the accuracy is = %.2f%%\" % (k, score * 100))\n",
    "    accuracies.append(score)"
   ]
  },
  {
   "cell_type": "markdown",
   "id": "7dcfd943",
   "metadata": {
    "papermill": {
     "duration": 0.012611,
     "end_time": "2023-06-30T00:27:17.158956",
     "exception": false,
     "start_time": "2023-06-30T00:27:17.146345",
     "status": "completed"
    },
    "tags": []
   },
   "source": [
    "> In short, this code runs a loop that iterates over different values of k, trains a KNN model for each value of k, evaluates the model, and stores the accuracies in a list. This allows comparing the performance of the KNN model with different values of k and identifying which value provides the highest accuracy."
   ]
  },
  {
   "cell_type": "code",
   "execution_count": 12,
   "id": "0faa1096",
   "metadata": {
    "execution": {
     "iopub.execute_input": "2023-06-30T00:27:17.187304Z",
     "iopub.status.busy": "2023-06-30T00:27:17.186580Z",
     "iopub.status.idle": "2023-06-30T00:27:17.503269Z",
     "shell.execute_reply": "2023-06-30T00:27:17.502113Z"
    },
    "papermill": {
     "duration": 0.334032,
     "end_time": "2023-06-30T00:27:17.505792",
     "exception": false,
     "start_time": "2023-06-30T00:27:17.171760",
     "status": "completed"
    },
    "tags": []
   },
   "outputs": [
    {
     "data": {
      "image/png": "[encoded data removed]",
      "text/plain": [
       "<Figure size 1700x350 with 1 Axes>"
      ]
     },
     "metadata": {},
     "output_type": "display_data"
    }
   ],
   "source": [
    "# Creating a DataFrame with k and score values\n",
    "percentage_accuracy = [round(score * 100, 2) for score in accuracies[:15]]\n",
    "ranking = pd.DataFrame({'k': kVals, 'score': percentage_accuracy[:15]})\n",
    "\n",
    "# Defining the order of the values of k\n",
    "ranking_k = ranking.sort_values(by='score', ascending= False)['k'].tolist()\n",
    "\n",
    "# Plotting the bar chart\n",
    "plt.figure(figsize=(17, 3.5))\n",
    "ax = sns.barplot(x='k', y='score', data=ranking, order=ranking_k, palette='mako')\n",
    "\n",
    "# Adding labels with values\n",
    "for p in ax.patches:\n",
    "    ax.annotate(f'{p.get_height()}', (p.get_x() + p.get_width() / 2., p.get_height()), \n",
    "                ha='center', va='center', xytext=(0, 10), textcoords='offset points',\n",
    "                bbox=dict(facecolor='white', edgecolor='black', boxstyle='round'), fontsize = 12)\n",
    "\n",
    "# Adjusting the y-axis limits\n",
    "plt.ylim(0, max([p.get_height() for p in ax.patches]) * 1.15)  \n",
    "\n",
    "# # Setting the font size for all elements\n",
    "plt.title('Accuracy at each value of k', fontsize=15)\n",
    "plt.xlabel('Values of k', fontsize=15)\n",
    "plt.ylabel('Accuracy', fontsize=20)\n",
    "plt.xticks(fontsize=10)\n",
    "plt.yticks(fontsize=10)\n",
    "\n",
    "# Showing chart\n",
    "plt.show()"
   ]
  },
  {
   "cell_type": "code",
   "execution_count": 13,
   "id": "6b05ee93",
   "metadata": {
    "execution": {
     "iopub.execute_input": "2023-06-30T00:27:17.534568Z",
     "iopub.status.busy": "2023-06-30T00:27:17.534188Z",
     "iopub.status.idle": "2023-06-30T00:27:17.540746Z",
     "shell.execute_reply": "2023-06-30T00:27:17.539438Z"
    },
    "papermill": {
     "duration": 0.024182,
     "end_time": "2023-06-30T00:27:17.543374",
     "exception": false,
     "start_time": "2023-06-30T00:27:17.519192",
     "status": "completed"
    },
    "tags": []
   },
   "outputs": [
    {
     "name": "stdout",
     "output_type": "stream",
     "text": [
      "The best value of k is 1 with an accuracy of 96.78%\n"
     ]
    }
   ],
   "source": [
    "# Find the best value of k with the highest score\n",
    "best_k = kVals[np.argmax(accuracies)]\n",
    "best_score = np.max(accuracies)\n",
    "\n",
    "print(\"The best value of k is %d with an accuracy of %.2f%%\" % (best_k, best_score * 100))"
   ]
  },
  {
   "cell_type": "code",
   "execution_count": 14,
   "id": "6e68be95",
   "metadata": {
    "execution": {
     "iopub.execute_input": "2023-06-30T00:27:17.573500Z",
     "iopub.status.busy": "2023-06-30T00:27:17.573106Z",
     "iopub.status.idle": "2023-06-30T00:27:17.578322Z",
     "shell.execute_reply": "2023-06-30T00:27:17.577063Z"
    },
    "papermill": {
     "duration": 0.023466,
     "end_time": "2023-06-30T00:27:17.580778",
     "exception": false,
     "start_time": "2023-06-30T00:27:17.557312",
     "status": "completed"
    },
    "tags": []
   },
   "outputs": [],
   "source": [
    "# Creating the final version of the model\n",
    "finalModel = KNeighborsClassifier(n_neighbors= best_k, \n",
    "                                     metric =  'euclidean', \n",
    "                                     weights= 'distance')"
   ]
  },
  {
   "cell_type": "markdown",
   "id": "c3077521",
   "metadata": {
    "papermill": {
     "duration": 0.013147,
     "end_time": "2023-06-30T00:27:17.607577",
     "exception": false,
     "start_time": "2023-06-30T00:27:17.594430",
     "status": "completed"
    },
    "tags": []
   },
   "source": [
    "> The final KNN model is configured to use the Euclidean distance metric and consider the best value k nearest neighbors with weights based on distance."
   ]
  },
  {
   "cell_type": "code",
   "execution_count": 15,
   "id": "61508c5e",
   "metadata": {
    "execution": {
     "iopub.execute_input": "2023-06-30T00:27:17.636779Z",
     "iopub.status.busy": "2023-06-30T00:27:17.636386Z",
     "iopub.status.idle": "2023-06-30T00:27:17.652757Z",
     "shell.execute_reply": "2023-06-30T00:27:17.651514Z"
    },
    "papermill": {
     "duration": 0.034417,
     "end_time": "2023-06-30T00:27:17.655415",
     "exception": false,
     "start_time": "2023-06-30T00:27:17.620998",
     "status": "completed"
    },
    "scrolled": true,
    "tags": []
   },
   "outputs": [
    {
     "data": {
      "text/html": [
       "<style>#sk-container-id-1 {color: black;background-color: white;}#sk-container-id-1 pre{padding: 0;}#sk-container-id-1 div.sk-toggleable {background-color: white;}#sk-container-id-1 label.sk-toggleable__label {cursor: pointer;display: block;width: 100%;margin-bottom: 0;padding: 0.3em;box-sizing: border-box;text-align: center;}#sk-container-id-1 label.sk-toggleable__label-arrow:before {content: \"▸\";float: left;margin-right: 0.25em;color: #696969;}#sk-container-id-1 label.sk-toggleable__label-arrow:hover:before {color: black;}#sk-container-id-1 div.sk-estimator:hover label.sk-toggleable__label-arrow:before {color: black;}#sk-container-id-1 div.sk-toggleable__content {max-height: 0;max-width: 0;overflow: hidden;text-align: left;background-color: #f0f8ff;}#sk-container-id-1 div.sk-toggleable__content pre {margin: 0.2em;color: black;border-radius: 0.25em;background-color: #f0f8ff;}#sk-container-id-1 input.sk-toggleable__control:checked~div.sk-toggleable__content {max-height: 200px;max-width: 100%;overflow: auto;}#sk-container-id-1 input.sk-toggleable__control:checked~label.sk-toggleable__label-arrow:before {content: \"▾\";}#sk-container-id-1 div.sk-estimator input.sk-toggleable__control:checked~label.sk-toggleable__label {background-color: #d4ebff;}#sk-container-id-1 div.sk-label input.sk-toggleable__control:checked~label.sk-toggleable__label {background-color: #d4ebff;}#sk-container-id-1 input.sk-hidden--visually {border: 0;clip: rect(1px 1px 1px 1px);clip: rect(1px, 1px, 1px, 1px);height: 1px;margin: -1px;overflow: hidden;padding: 0;position: absolute;width: 1px;}#sk-container-id-1 div.sk-estimator {font-family: monospace;background-color: #f0f8ff;border: 1px dotted black;border-radius: 0.25em;box-sizing: border-box;margin-bottom: 0.5em;}#sk-container-id-1 div.sk-estimator:hover {background-color: #d4ebff;}#sk-container-id-1 div.sk-parallel-item::after {content: \"\";width: 100%;border-bottom: 1px solid gray;flex-grow: 1;}#sk-container-id-1 div.sk-label:hover label.sk-toggleable__label {background-color: #d4ebff;}#sk-container-id-1 div.sk-serial::before {content: \"\";position: absolute;border-left: 1px solid gray;box-sizing: border-box;top: 0;bottom: 0;left: 50%;z-index: 0;}#sk-container-id-1 div.sk-serial {display: flex;flex-direction: column;align-items: center;background-color: white;padding-right: 0.2em;padding-left: 0.2em;position: relative;}#sk-container-id-1 div.sk-item {position: relative;z-index: 1;}#sk-container-id-1 div.sk-parallel {display: flex;align-items: stretch;justify-content: center;background-color: white;position: relative;}#sk-container-id-1 div.sk-item::before, #sk-container-id-1 div.sk-parallel-item::before {content: \"\";position: absolute;border-left: 1px solid gray;box-sizing: border-box;top: 0;bottom: 0;left: 50%;z-index: -1;}#sk-container-id-1 div.sk-parallel-item {display: flex;flex-direction: column;z-index: 1;position: relative;background-color: white;}#sk-container-id-1 div.sk-parallel-item:first-child::after {align-self: flex-end;width: 50%;}#sk-container-id-1 div.sk-parallel-item:last-child::after {align-self: flex-start;width: 50%;}#sk-container-id-1 div.sk-parallel-item:only-child::after {width: 0;}#sk-container-id-1 div.sk-dashed-wrapped {border: 1px dashed gray;margin: 0 0.4em 0.5em 0.4em;box-sizing: border-box;padding-bottom: 0.4em;background-color: white;}#sk-container-id-1 div.sk-label label {font-family: monospace;font-weight: bold;display: inline-block;line-height: 1.2em;}#sk-container-id-1 div.sk-label-container {text-align: center;}#sk-container-id-1 div.sk-container {/* jupyter's `normalize.less` sets `[hidden] { display: none; }` but bootstrap.min.css set `[hidden] { display: none !important; }` so we also need the `!important` here to be able to override the default hidden behavior on the sphinx rendered scikit-learn.org. See: https://github.com/scikit-learn/scikit-learn/issues/21755 */display: inline-block !important;position: relative;}#sk-container-id-1 div.sk-text-repr-fallback {display: none;}</style><div id=\"sk-container-id-1\" class=\"sk-top-container\"><div class=\"sk-text-repr-fallback\"><pre>KNeighborsClassifier(metric=&#x27;euclidean&#x27;, n_neighbors=1, weights=&#x27;distance&#x27;)</pre><b>In a Jupyter environment, please rerun this cell to show the HTML representation or trust the notebook. <br />On GitHub, the HTML representation is unable to render, please try loading this page with nbviewer.org.</b></div><div class=\"sk-container\" hidden><div class=\"sk-item\"><div class=\"sk-estimator sk-toggleable\"><input class=\"sk-toggleable__control sk-hidden--visually\" id=\"sk-estimator-id-1\" type=\"checkbox\" checked><label for=\"sk-estimator-id-1\" class=\"sk-toggleable__label sk-toggleable__label-arrow\">KNeighborsClassifier</label><div class=\"sk-toggleable__content\"><pre>KNeighborsClassifier(metric=&#x27;euclidean&#x27;, n_neighbors=1, weights=&#x27;distance&#x27;)</pre></div></div></div></div></div>"
      ],
      "text/plain": [
       "KNeighborsClassifier(metric='euclidean', n_neighbors=1, weights='distance')"
      ]
     },
     "execution_count": 15,
     "metadata": {},
     "output_type": "execute_result"
    }
   ],
   "source": [
    "# Training the final model\n",
    "finalModel.fit(X_train, y_train)"
   ]
  },
  {
   "cell_type": "code",
   "execution_count": 16,
   "id": "1cbfd092",
   "metadata": {
    "execution": {
     "iopub.execute_input": "2023-06-30T00:27:17.685935Z",
     "iopub.status.busy": "2023-06-30T00:27:17.685512Z",
     "iopub.status.idle": "2023-06-30T00:27:30.506518Z",
     "shell.execute_reply": "2023-06-30T00:27:30.504898Z"
    },
    "papermill": {
     "duration": 12.839679,
     "end_time": "2023-06-30T00:27:30.509641",
     "exception": false,
     "start_time": "2023-06-30T00:27:17.669962",
     "status": "completed"
    },
    "tags": []
   },
   "outputs": [],
   "source": [
    "# making predictions\n",
    "predictions = finalModel.predict(X_test)"
   ]
  },
  {
   "cell_type": "code",
   "execution_count": 17,
   "id": "97533e4b",
   "metadata": {
    "execution": {
     "iopub.execute_input": "2023-06-30T00:27:30.540470Z",
     "iopub.status.busy": "2023-06-30T00:27:30.540023Z",
     "iopub.status.idle": "2023-06-30T00:27:30.581414Z",
     "shell.execute_reply": "2023-06-30T00:27:30.580055Z"
    },
    "papermill": {
     "duration": 0.059509,
     "end_time": "2023-06-30T00:27:30.583931",
     "exception": false,
     "start_time": "2023-06-30T00:27:30.524422",
     "status": "completed"
    },
    "scrolled": true,
    "tags": []
   },
   "outputs": [
    {
     "name": "stdout",
     "output_type": "stream",
     "text": [
      "Model Evaluation on Test Data\n",
      "              precision    recall  f1-score   support\n",
      "\n",
      "           0     0.9786    0.9925    0.9855      1199\n",
      "           1     0.9713    0.9909    0.9810      1433\n",
      "           2     0.9834    0.9643    0.9737      1287\n",
      "           3     0.9539    0.9632    0.9585      1332\n",
      "           4     0.9747    0.9614    0.9680      1242\n",
      "           5     0.9589    0.9496    0.9542      1130\n",
      "           6     0.9703    0.9869    0.9785      1223\n",
      "           7     0.9629    0.9680    0.9654      1313\n",
      "           8     0.9846    0.9337    0.9585      1236\n",
      "           9     0.9401    0.9635    0.9516      1205\n",
      "\n",
      "    accuracy                         0.9678     12600\n",
      "   macro avg     0.9679    0.9674    0.9675     12600\n",
      "weighted avg     0.9680    0.9678    0.9677     12600\n",
      "\n"
     ]
    }
   ],
   "source": [
    "# Model performance\n",
    "print(\"Model Evaluation on Test Data\")\n",
    "print(classification_report(y_test, predictions, digits=4))"
   ]
  },
  {
   "cell_type": "code",
   "execution_count": 18,
   "id": "1ac267ff",
   "metadata": {
    "execution": {
     "iopub.execute_input": "2023-06-30T00:27:30.614255Z",
     "iopub.status.busy": "2023-06-30T00:27:30.613536Z",
     "iopub.status.idle": "2023-06-30T00:27:44.222819Z",
     "shell.execute_reply": "2023-06-30T00:27:44.221684Z"
    },
    "papermill": {
     "duration": 13.627273,
     "end_time": "2023-06-30T00:27:44.225253",
     "exception": false,
     "start_time": "2023-06-30T00:27:30.597980",
     "status": "completed"
    },
    "tags": []
   },
   "outputs": [
    {
     "data": {
      "image/png": "[encoded data removed]",
      "text/plain": [
       "<Figure size 1200x400 with 2 Axes>"
      ]
     },
     "metadata": {},
     "output_type": "display_data"
    }
   ],
   "source": [
    "# Getting the predictions from the model\n",
    "predictions = finalModel.predict(X_test)\n",
    "\n",
    "# Creating the confusion matrix\n",
    "cm = confusion_matrix(y_test, predictions)\n",
    "\n",
    "# Plotting the confusion matrix\n",
    "plt.figure(figsize=(12, 4))\n",
    "sns.heatmap(cm, annot=True, fmt=\"d\", cmap=\"Blues\")\n",
    "plt.title(\"Confusion Matrix\")\n",
    "plt.xlabel(\"Forecast Class\")\n",
    "plt.ylabel(\"Real Class\")\n",
    "plt.show()"
   ]
  },
  {
   "cell_type": "code",
   "execution_count": 19,
   "id": "a015db35",
   "metadata": {
    "execution": {
     "iopub.execute_input": "2023-06-30T00:27:44.257574Z",
     "iopub.status.busy": "2023-06-30T00:27:44.257165Z",
     "iopub.status.idle": "2023-06-30T00:27:44.268349Z",
     "shell.execute_reply": "2023-06-30T00:27:44.267172Z"
    },
    "papermill": {
     "duration": 0.030351,
     "end_time": "2023-06-30T00:27:44.270794",
     "exception": false,
     "start_time": "2023-06-30T00:27:44.240443",
     "status": "completed"
    },
    "scrolled": true,
    "tags": []
   },
   "outputs": [
    {
     "name": "stdout",
     "output_type": "stream",
     "text": [
      "The categories in which the model made the most erros:\n",
      "Class 8: Errors = 82\n",
      "Class 5: Errors = 57\n",
      "Class 3: Errors = 49\n",
      "Class 4: Errors = 48\n",
      "Class 2: Errors = 46\n",
      "Class 9: Errors = 44\n",
      "Class 7: Errors = 42\n",
      "Class 6: Errors = 16\n",
      "Class 1: Errors = 13\n",
      "Class 0: Errors = 9\n"
     ]
    }
   ],
   "source": [
    "# Confusion matrix\n",
    "cm = confusion_matrix(y_test, predictions)\n",
    "\n",
    "# Calculating total errors by category\n",
    "errors_per_category = cm.sum(axis=1) - np.diag(cm)\n",
    "\n",
    "# Getting errors from each class\n",
    "most_errors_categories = np.argsort(errors_per_category)[::-1]\n",
    "\n",
    "# Printing the erros\n",
    "print(\"The categories in which the model made the most erros:\")\n",
    "for category in most_errors_categories:\n",
    "    print(\"Class {}: Errors = {}\".format(category, errors_per_category[category]))\n"
   ]
  },
  {
   "cell_type": "markdown",
   "id": "b851630d",
   "metadata": {
    "papermill": {
     "duration": 0.014823,
     "end_time": "2023-06-30T00:27:44.301241",
     "exception": false,
     "start_time": "2023-06-30T00:27:44.286418",
     "status": "completed"
    },
    "tags": []
   },
   "source": [
    "## Viewing some classes that the model failed"
   ]
  },
  {
   "cell_type": "code",
   "execution_count": 20,
   "id": "8c6f13a0",
   "metadata": {
    "execution": {
     "iopub.execute_input": "2023-06-30T00:27:44.333099Z",
     "iopub.status.busy": "2023-06-30T00:27:44.332702Z",
     "iopub.status.idle": "2023-06-30T00:27:45.140685Z",
     "shell.execute_reply": "2023-06-30T00:27:45.139432Z"
    },
    "papermill": {
     "duration": 0.827229,
     "end_time": "2023-06-30T00:27:45.143541",
     "exception": false,
     "start_time": "2023-06-30T00:27:44.316312",
     "status": "completed"
    },
    "tags": []
   },
   "outputs": [
    {
     "data": {
      "image/png": "[encoded data removed]",
      "text/plain": [
       "<Figure size 2000x400 with 7 Axes>"
      ]
     },
     "metadata": {},
     "output_type": "display_data"
    }
   ],
   "source": [
    "# Get the indexes of the wrong predictions\n",
    "wrong_indices = np.where(y_test != predictions)[0]\n",
    "\n",
    "# Randomly select 7 samples\n",
    "random_indices = np.random.choice(wrong_indices, 7, replace=False)\n",
    "random_samples = X_test[random_indices]\n",
    "random_true_labels = y_test[random_indices]\n",
    "random_predicted_labels = predictions[random_indices]\n",
    "\n",
    "# Plotting the 7 samples\n",
    "fig, axes = plt.subplots(1, 7, figsize=(20, 4))\n",
    "\n",
    "for i, ax in enumerate(axes):\n",
    "    image = random_samples[i]\n",
    "    true_label = random_true_labels[i]\n",
    "    predicted_label = random_predicted_labels[i]\n",
    "    \n",
    "    pixels = image.reshape((28, 28))\n",
    "    \n",
    "    ax.imshow(pixels, cmap='gray')\n",
    "    ax.set_title(f\"True: {true_label}\\nPrediction: {predicted_label}\", fontsize = 16)\n",
    "    ax.axis('off')\n",
    "\n",
    "plt.tight_layout()\n",
    "plt.show()\n"
   ]
  },
  {
   "cell_type": "markdown",
   "id": "7cd0fc06",
   "metadata": {
    "papermill": {
     "duration": 0.015403,
     "end_time": "2023-06-30T00:27:45.175554",
     "exception": false,
     "start_time": "2023-06-30T00:27:45.160151",
     "status": "completed"
    },
    "tags": []
   },
   "source": [
    "> Here are some example instances of the error model."
   ]
  },
  {
   "cell_type": "markdown",
   "id": "f30620fa",
   "metadata": {
    "papermill": {
     "duration": 0.015421,
     "end_time": "2023-06-30T00:27:45.207261",
     "exception": false,
     "start_time": "2023-06-30T00:27:45.191840",
     "status": "completed"
    },
    "tags": []
   },
   "source": [
    "## Visualizing some classes that the model got right"
   ]
  },
  {
   "cell_type": "code",
   "execution_count": 21,
   "id": "5bc2cf40",
   "metadata": {
    "execution": {
     "iopub.execute_input": "2023-06-30T00:27:45.243669Z",
     "iopub.status.busy": "2023-06-30T00:27:45.243227Z",
     "iopub.status.idle": "2023-06-30T00:27:46.860773Z",
     "shell.execute_reply": "2023-06-30T00:27:46.859524Z"
    },
    "papermill": {
     "duration": 1.639408,
     "end_time": "2023-06-30T00:27:46.863371",
     "exception": false,
     "start_time": "2023-06-30T00:27:45.223963",
     "status": "completed"
    },
    "tags": []
   },
   "outputs": [
    {
     "data": {
      "image/png": "[encoded data removed]",
      "text/plain": [
       "<Figure size 1500x300 with 6 Axes>"
      ]
     },
     "metadata": {},
     "output_type": "display_data"
    }
   ],
   "source": [
    "fig, axes = plt.subplots(1, 6, figsize=(15, 3))\n",
    "\n",
    "for i, ax in enumerate(axes):\n",
    "    # Getting an image and making the prediction\n",
    "    image = X_test[i]\n",
    "    prediction = finalModel.predict([image])[0]\n",
    "    \n",
    "    # showing the predictions\n",
    "    imgdata = np.array(image)\n",
    "    pixels = imgdata.reshape((28, 28))\n",
    "    \n",
    "    ax.imshow(pixels, cmap='gray')\n",
    "    ax.annotate(prediction, (3, 3), bbox={'facecolor': 'white'}, fontsize=16)\n",
    "    ax.set_title(\"Prediction: {}\".format(prediction), fontsize = 15)\n",
    "    ax.axis('off')\n",
    "\n",
    "# Adjusting spaces between subplots\n",
    "plt.tight_layout()\n",
    "\n",
    "# Displaying the figure\n",
    "plt.show()"
   ]
  },
  {
   "cell_type": "markdown",
   "id": "80b4ff59",
   "metadata": {
    "papermill": {
     "duration": 0.016362,
     "end_time": "2023-06-30T00:27:46.896104",
     "exception": false,
     "start_time": "2023-06-30T00:27:46.879742",
     "status": "completed"
    },
    "tags": []
   },
   "source": [
    "## Performing predictions using the model trained with data from the test.csv file"
   ]
  },
  {
   "cell_type": "code",
   "execution_count": 22,
   "id": "018efe98",
   "metadata": {
    "execution": {
     "iopub.execute_input": "2023-06-30T00:27:46.930410Z",
     "iopub.status.busy": "2023-06-30T00:27:46.929985Z",
     "iopub.status.idle": "2023-06-30T00:27:49.410116Z",
     "shell.execute_reply": "2023-06-30T00:27:49.409078Z"
    },
    "papermill": {
     "duration": 2.500493,
     "end_time": "2023-06-30T00:27:49.413020",
     "exception": false,
     "start_time": "2023-06-30T00:27:46.912527",
     "status": "completed"
    },
    "tags": []
   },
   "outputs": [],
   "source": [
    "# Loading the data\n",
    "df_teste = pd.read_csv('/kaggle/input/digit-recognizer/test.csv').values"
   ]
  },
  {
   "cell_type": "code",
   "execution_count": 23,
   "id": "acf9521f",
   "metadata": {
    "execution": {
     "iopub.execute_input": "2023-06-30T00:27:49.447925Z",
     "iopub.status.busy": "2023-06-30T00:27:49.447517Z",
     "iopub.status.idle": "2023-06-30T00:27:51.856389Z",
     "shell.execute_reply": "2023-06-30T00:27:51.855044Z"
    },
    "papermill": {
     "duration": 2.42915,
     "end_time": "2023-06-30T00:27:51.859211",
     "exception": false,
     "start_time": "2023-06-30T00:27:49.430061",
     "status": "completed"
    },
    "tags": []
   },
   "outputs": [
    {
     "data": {
      "image/png": "[encoded data removed]",
      "text/plain": [
       "<Figure size 1000x400 with 10 Axes>"
      ]
     },
     "metadata": {},
     "output_type": "display_data"
    }
   ],
   "source": [
    "# Making predictions with the trained model using test data\n",
    "indices = np.random.randint(0, high=len(df_teste), size=(10,))\n",
    "\n",
    "# Creating a figure with subplots\n",
    "fig, axes = plt.subplots(nrows=2, ncols=5, figsize=(10, 4))\n",
    "\n",
    "# Iterating over the subplots and displaying the images\n",
    "for i, ax in enumerate(axes.flatten()):\n",
    "    \n",
    "  # Getting an image and making the prediction\n",
    "    image = df_teste[i]\n",
    "    prediction = finalModel.predict([image])[0]\n",
    "\n",
    "    # Showing the image and the preview\n",
    "    imgdata = np.array(image, dtype='float')\n",
    "    pixels = imgdata.reshape((28, 28))\n",
    "    ax.imshow(pixels, cmap='gray')\n",
    "    ax.set_title(\"Prediction: {}\".format(prediction))\n",
    "    ax.axis('off')\n",
    "\n",
    "# Adjusting spaces between subplots\n",
    "plt.tight_layout()\n",
    "\n",
    "# Displaying the figure\n",
    "plt.show()"
   ]
  }
 ],
 "metadata": {
  "kernelspec": {
   "display_name": "Python 3",
   "language": "python",
   "name": "python3"
  },
  "language_info": {
   "codemirror_mode": {
    "name": "ipython",
    "version": 3
   },
   "file_extension": ".py",
   "mimetype": "text/x-python",
   "name": "python",
   "nbconvert_exporter": "python",
   "pygments_lexer": "ipython3",
   "version": "3.10.10"
  },
  "papermill": {
   "default_parameters": {},
   "duration": 172.708813,
   "end_time": "2023-06-30T00:27:53.100860",
   "environment_variables": {},
   "exception": null,
   "input_path": "__notebook__.ipynb",
   "output_path": "__notebook__.ipynb",
   "parameters": {},
   "start_time": "2023-06-30T00:25:00.392047",
   "version": "2.4.0"
  }
 },
 "nbformat": 4,
 "nbformat_minor": 5
}
